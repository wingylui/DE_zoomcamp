{
 "cells": [
  {
   "cell_type": "code",
   "execution_count": null,
   "metadata": {},
   "outputs": [],
   "source": [
    "import pandas as pd"
   ]
  },
  {
   "cell_type": "code",
   "execution_count": 30,
   "metadata": {},
   "outputs": [],
   "source": [
    "# dataset location\n",
    "dataset_url = {\n",
    "                \"birth-rate\"        : \"https://github.com/wingylui/DE_zoomcamp/raw/refs/heads/main/project/dataset/birth-rate.csv.gz\",\n",
    "                \"life-expectancy\"   : \"https://github.com/wingylui/DE_zoomcamp/raw/refs/heads/main/project/dataset/life-expectancy.csv.gz\",\n",
    "                \"migrant-total\"     : \"https://github.com/wingylui/DE_zoomcamp/raw/refs/heads/main/project/dataset/migrant-total.csv.gz\",\n",
    "                \"refugee-population\":\"https://github.com/wingylui/DE_zoomcamp/raw/refs/heads/main/project/dataset/refugee-population.csv.gz\"\n",
    "}"
   ]
  },
  {
   "cell_type": "code",
   "execution_count": 31,
   "metadata": {},
   "outputs": [],
   "source": [
    "for file_name in dataset_url.keys():\n",
    "    url = dataset_url[file_name]\n",
    "    \n",
    "    # reading each the dataset \n",
    "    df = pd.read_csv(url, compression = \"gzip\")\n",
    "    filter_df = df.loc[(df[\"Year\"] == year) & (df[\"Code\"].notna()), :] # filter the year thats required\n",
    "\n",
    "    if len(filter_df) > 0 :\n",
    "        filter_df.to_csv(f\"{file_name}_{year}.csv\") # output csv files which ready to upload\n",
    "    else:\n",
    "        pass"
   ]
  }
 ],
 "metadata": {
  "kernelspec": {
   "display_name": "dataEngineerZoomcamp",
   "language": "python",
   "name": "python3"
  },
  "language_info": {
   "codemirror_mode": {
    "name": "ipython",
    "version": 3
   },
   "file_extension": ".py",
   "mimetype": "text/x-python",
   "name": "python",
   "nbconvert_exporter": "python",
   "pygments_lexer": "ipython3",
   "version": "3.12.9"
  }
 },
 "nbformat": 4,
 "nbformat_minor": 2
}
