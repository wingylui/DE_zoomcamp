{
  "nbformat": 4,
  "nbformat_minor": 0,
  "metadata": {
    "colab": {
      "provenance": []
    },
    "kernelspec": {
      "name": "python3",
      "display_name": "Python 3"
    },
    "language_info": {
      "name": "python"
    }
  },
  "cells": [
    {
      "cell_type": "code",
      "execution_count": null,
      "metadata": {
        "colab": {
          "base_uri": "https://localhost:8080/"
        },
        "id": "jOsU_hWShgNl",
        "outputId": "85fe9b95-8979-4539-aafe-a53ce4b033a2"
      },
      "outputs": [
        {
          "output_type": "stream",
          "name": "stdout",
          "text": [
            "--2025-03-01 11:59:41--  https://d37ci6vzurychx.cloudfront.net/trip-data/yellow_tripdata_2024-10.parquet\n",
            "Resolving d37ci6vzurychx.cloudfront.net (d37ci6vzurychx.cloudfront.net)... 18.154.99.47, 18.154.99.177, 18.154.99.220, ...\n",
            "Connecting to d37ci6vzurychx.cloudfront.net (d37ci6vzurychx.cloudfront.net)|18.154.99.47|:443... connected.\n",
            "HTTP request sent, awaiting response... 200 OK\n",
            "Length: 64346071 (61M) [binary/octet-stream]\n",
            "Saving to: ‘yellow_tripdata_2024-10.parquet’\n",
            "\n",
            "yellow_tripdata_202 100%[===================>]  61.36M  45.5MB/s    in 1.3s    \n",
            "\n",
            "2025-03-01 11:59:43 (45.5 MB/s) - ‘yellow_tripdata_2024-10.parquet’ saved [64346071/64346071]\n",
            "\n"
          ]
        }
      ],
      "source": [
        "!wget https://d37ci6vzurychx.cloudfront.net/trip-data/yellow_tripdata_2024-10.parquet"
      ]
    },
    {
      "cell_type": "code",
      "source": [
        "!wget https://d37ci6vzurychx.cloudfront.net/misc/taxi_zone_lookup.csv"
      ],
      "metadata": {
        "colab": {
          "base_uri": "https://localhost:8080/"
        },
        "id": "J5GwfWp2zqI2",
        "outputId": "dd926e1e-1088-4309-f642-e8f00ca809e4"
      },
      "execution_count": null,
      "outputs": [
        {
          "output_type": "stream",
          "name": "stdout",
          "text": [
            "--2025-03-01 13:04:23--  https://d37ci6vzurychx.cloudfront.net/misc/taxi_zone_lookup.csv\n",
            "Resolving d37ci6vzurychx.cloudfront.net (d37ci6vzurychx.cloudfront.net)... 18.154.99.220, 18.154.99.177, 18.154.99.225, ...\n",
            "Connecting to d37ci6vzurychx.cloudfront.net (d37ci6vzurychx.cloudfront.net)|18.154.99.220|:443... connected.\n",
            "HTTP request sent, awaiting response... 200 OK\n",
            "Length: 12331 (12K) [text/csv]\n",
            "Saving to: ‘taxi_zone_lookup.csv’\n",
            "\n",
            "\rtaxi_zone_lookup.cs   0%[                    ]       0  --.-KB/s               \rtaxi_zone_lookup.cs 100%[===================>]  12.04K  --.-KB/s    in 0s      \n",
            "\n",
            "2025-03-01 13:04:23 (226 MB/s) - ‘taxi_zone_lookup.csv’ saved [12331/12331]\n",
            "\n"
          ]
        }
      ]
    },
    {
      "cell_type": "code",
      "source": [
        "from pyspark.sql import SparkSession\n",
        "import pyspark.sql.functions as f"
      ],
      "metadata": {
        "id": "yUtP859Ek2-p"
      },
      "execution_count": null,
      "outputs": []
    },
    {
      "cell_type": "code",
      "source": [
        "import time\n",
        "\n",
        "# Create a SparkSession\n",
        "spark = SparkSession.builder.appName(\"ny_taxi_parquet\").getOrCreate()\n",
        "\n",
        "# loading trip data\n",
        "df = spark.read.parquet('./yellow_tripdata_2024-10.parquet')"
      ],
      "metadata": {
        "id": "ynaCaBTulwrq"
      },
      "execution_count": null,
      "outputs": []
    },
    {
      "cell_type": "code",
      "source": [
        "# loading taxi zone data\n",
        "zone_df = spark.read.csv('./taxi_zone_lookup.csv', header='true')"
      ],
      "metadata": {
        "id": "FqUcgCeszucY"
      },
      "execution_count": null,
      "outputs": []
    },
    {
      "cell_type": "code",
      "source": [
        "# ensure correct format for each column\n",
        "df.printSchema()"
      ],
      "metadata": {
        "colab": {
          "base_uri": "https://localhost:8080/"
        },
        "id": "Wo9NALaylxLS",
        "outputId": "c8ce41d6-8260-4100-9779-15953ab3edef"
      },
      "execution_count": null,
      "outputs": [
        {
          "output_type": "stream",
          "name": "stdout",
          "text": [
            "root\n",
            " |-- VendorID: integer (nullable = true)\n",
            " |-- tpep_pickup_datetime: timestamp_ntz (nullable = true)\n",
            " |-- tpep_dropoff_datetime: timestamp_ntz (nullable = true)\n",
            " |-- passenger_count: long (nullable = true)\n",
            " |-- trip_distance: double (nullable = true)\n",
            " |-- RatecodeID: long (nullable = true)\n",
            " |-- store_and_fwd_flag: string (nullable = true)\n",
            " |-- PULocationID: integer (nullable = true)\n",
            " |-- DOLocationID: integer (nullable = true)\n",
            " |-- payment_type: long (nullable = true)\n",
            " |-- fare_amount: double (nullable = true)\n",
            " |-- extra: double (nullable = true)\n",
            " |-- mta_tax: double (nullable = true)\n",
            " |-- tip_amount: double (nullable = true)\n",
            " |-- tolls_amount: double (nullable = true)\n",
            " |-- improvement_surcharge: double (nullable = true)\n",
            " |-- total_amount: double (nullable = true)\n",
            " |-- congestion_surcharge: double (nullable = true)\n",
            " |-- Airport_fee: double (nullable = true)\n",
            "\n"
          ]
        }
      ]
    },
    {
      "cell_type": "code",
      "source": [
        "zone_df.printSchema()"
      ],
      "metadata": {
        "colab": {
          "base_uri": "https://localhost:8080/"
        },
        "id": "y93vFXtH0rqV",
        "outputId": "18af2e8c-3362-4cd9-9234-49156fd5dec7"
      },
      "execution_count": null,
      "outputs": [
        {
          "output_type": "stream",
          "name": "stdout",
          "text": [
            "root\n",
            " |-- LocationID: string (nullable = true)\n",
            " |-- Borough: string (nullable = true)\n",
            " |-- Zone: string (nullable = true)\n",
            " |-- service_zone: string (nullable = true)\n",
            "\n"
          ]
        }
      ]
    },
    {
      "cell_type": "code",
      "source": [
        "# Q1: Repartition the Dataframe to 4 partitions and save it to parquet.\n",
        "partition_df = df.repartition(4)\n",
        "\n",
        "# write into parquet file\n",
        "df.write.parquet(\"YellowTaxi_partition\")"
      ],
      "metadata": {
        "id": "NYiuxMlVnKNn"
      },
      "execution_count": null,
      "outputs": []
    },
    {
      "cell_type": "markdown",
      "source": [
        "#### **Question 1.**: What is the average size of the Parquet (ending with .parquet extension) Files that were created (in MB)? Select the answer which most closely matches.\n",
        "\n",
        "```Ans: 25MB```"
      ],
      "metadata": {
        "id": "o3jUjMBEqONf"
      }
    },
    {
      "cell_type": "code",
      "source": [
        "#\n",
        "df.filter(\n",
        "      df.tpep_pickup_datetime.between('2024-10-15 00:00:00', '2024-10-16 00:00:00') &\n",
        "      df.tpep_dropoff_datetime.between('2024-10-15 00:00:00', '2024-10-16 00:00:00'))\\\n",
        "  .select(f.count(f.lit(1)).alias(\"Num Of Records\")).show()"
      ],
      "metadata": {
        "colab": {
          "base_uri": "https://localhost:8080/"
        },
        "id": "Kc3Kjv6ZoHBL",
        "outputId": "f7b21b52-bd89-44a0-f632-e5303bef1918"
      },
      "execution_count": null,
      "outputs": [
        {
          "output_type": "stream",
          "name": "stdout",
          "text": [
            "+--------------+\n",
            "|Num Of Records|\n",
            "+--------------+\n",
            "|        128013|\n",
            "+--------------+\n",
            "\n"
          ]
        }
      ]
    },
    {
      "cell_type": "markdown",
      "source": [
        "#### **Question 3**: How many taxi trips were there on the 15th of October?\n",
        "\n",
        "```Ans: ```"
      ],
      "metadata": {
        "id": "D0ORZPF53m1a"
      }
    },
    {
      "cell_type": "code",
      "source": [
        "# calculate each trip duration (hours)\n",
        "df = df.withColumn(\n",
        "    \"trip_duration_hours\",\n",
        "    ((f.col(\"tpep_dropoff_datetime\") - f.col(\"tpep_pickup_datetime\")).cast(\"long\")) / 3600\n",
        ")\n",
        "\n",
        "# getting the longest trips (hours)\n",
        "df.agg(\n",
        "    f.max(\"trip_duration_hours\").alias(\"longest_trip_in_hours\")\n",
        ").show()"
      ],
      "metadata": {
        "colab": {
          "base_uri": "https://localhost:8080/"
        },
        "id": "Ljlel76vov8s",
        "outputId": "3b8f680b-c30d-43ce-e569-dcd049971a47"
      },
      "execution_count": null,
      "outputs": [
        {
          "output_type": "stream",
          "name": "stdout",
          "text": [
            "+---------------------+\n",
            "|longest_trip_in_hours|\n",
            "+---------------------+\n",
            "|   162.61777777777777|\n",
            "+---------------------+\n",
            "\n"
          ]
        }
      ]
    },
    {
      "cell_type": "markdown",
      "source": [
        "#### **Question 4**: What is the length of the longest trip in the dataset in hours?\n",
        "\n",
        "```Ans : 162```"
      ],
      "metadata": {
        "id": "hB4snOCY3ZLc"
      }
    },
    {
      "cell_type": "code",
      "source": [
        "df.join(zone_df, df.PULocationID == zone_df.LocationID, \"left\")\\\n",
        "  .groupby(\"Zone\")\\\n",
        "  .agg(f.count(df.VendorID).alias(\"Number of Rides\"))\\\n",
        "  .sort(f.asc(\"Number of Rides\"))\\\n",
        "  .show(1)"
      ],
      "metadata": {
        "colab": {
          "base_uri": "https://localhost:8080/"
        },
        "id": "UF5-IVaVy4Pq",
        "outputId": "a2af330e-87c3-46b4-a372-7fb150d3cc99"
      },
      "execution_count": null,
      "outputs": [
        {
          "output_type": "stream",
          "name": "stdout",
          "text": [
            "+--------------------+---------------+\n",
            "|                Zone|Number of Rides|\n",
            "+--------------------+---------------+\n",
            "|Governor's Island...|              1|\n",
            "+--------------------+---------------+\n",
            "only showing top 1 row\n",
            "\n"
          ]
        }
      ]
    },
    {
      "cell_type": "markdown",
      "source": [
        "#### **Question 6**: What is the name of the LEAST frequent pickup location Zone?\n",
        "```Ans: Governor's Island/Ellis Island/Liberty Island```"
      ],
      "metadata": {
        "id": "a3whTj8d3H5O"
      }
    }
  ]
}